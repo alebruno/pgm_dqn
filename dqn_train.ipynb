{
 "cells": [
  {
   "cell_type": "markdown",
   "metadata": {},
   "source": [
    "# Learn to play Pong with a Deep Q-Network (DQN)\n",
    "\n",
    "Train an agent that can play the game Pong for Atari 2600 using the REINFORCE algorithm, which is a Policy Gradient Method.\n",
    "\n",
    "### 1. Import Packages"
   ]
  },
  {
   "cell_type": "code",
   "execution_count": 1,
   "metadata": {},
   "outputs": [],
   "source": [
    "from dqn.pong_environment import PongFromFeatures\n",
    "from dqn.dqn_agent import Agent\n",
    "\n",
    "import torch\n",
    "import numpy as np\n",
    "from collections import deque\n",
    "import matplotlib.pyplot as plt\n",
    "%matplotlib inline"
   ]
  },
  {
   "cell_type": "markdown",
   "metadata": {},
   "source": [
    "### 2. Instantiate the Environment and Agent"
   ]
  },
  {
   "cell_type": "code",
   "execution_count": 2,
   "metadata": {},
   "outputs": [
    {
     "name": "stderr",
     "output_type": "stream",
     "text": [
      "A.L.E: Arcade Learning Environment (version 0.8.1+53f58b7)\n",
      "[Powered by Stella]\n",
      "/home/ale/dev/pong/DLMAIRIL01/iu_rl/lib/python3.10/site-packages/gymnasium/core.py:311: UserWarning: \u001b[33mWARN: env.seed to get variables from other wrappers is deprecated and will be removed in v1.0, to get this variable you can do `env.unwrapped.seed` for environment variables or `env.get_wrapper_attr('seed')` that will search the reminding wrappers.\u001b[0m\n",
      "  logger.warn(\n"
     ]
    },
    {
     "name": "stdout",
     "output_type": "stream",
     "text": [
      "State shape:  (12,)\n",
      "Number of actions:  3\n"
     ]
    }
   ],
   "source": [
    "env = PongFromFeatures(False)\n",
    "env.seed(0)\n",
    "\n",
    "print('State shape: ', env.observation_space.shape)\n",
    "print('Number of actions: ', env.action_space.n)\n",
    "\n",
    "agent = Agent(state_size=env.observation_space.shape[0], action_size=env.action_space.n, seed=0)"
   ]
  },
  {
   "cell_type": "markdown",
   "metadata": {},
   "source": [
    "### 3. Train the Agent"
   ]
  },
  {
   "cell_type": "code",
   "execution_count": 4,
   "metadata": {},
   "outputs": [
    {
     "name": "stdout",
     "output_type": "stream",
     "text": [
      "Episode 100\tAverage Score: -20.11\n",
      "Episode 200\tAverage Score: -19.36\n",
      "Episode 300\tAverage Score: -18.75\n",
      "Episode 400\tAverage Score: -17.92\n",
      "Episode 500\tAverage Score: -17.28\n",
      "Episode 600\tAverage Score: -16.64\n",
      "Episode 700\tAverage Score: -15.99\n",
      "Episode 800\tAverage Score: -15.36\n",
      "Episode 900\tAverage Score: -14.74\n",
      "Episode 1000\tAverage Score: -13.93\n",
      "Episode 1100\tAverage Score: -13.65\n",
      "Episode 1200\tAverage Score: -12.72\n",
      "Episode 1300\tAverage Score: -11.13\n",
      "Episode 1400\tAverage Score: -11.77\n",
      "Episode 1500\tAverage Score: -8.948\n",
      "Episode 1600\tAverage Score: -7.43\n",
      "Episode 1700\tAverage Score: -7.53\n",
      "Episode 1800\tAverage Score: -6.25\n",
      "Episode 1900\tAverage Score: -3.89\n",
      "Episode 2000\tAverage Score: -1.70\n",
      "Episode 2100\tAverage Score: 3.220\n",
      "Episode 2200\tAverage Score: 6.83\n",
      "Episode 2300\tAverage Score: 7.43\n",
      "Episode 2400\tAverage Score: 9.39\n",
      "Episode 2500\tAverage Score: 9.221\n",
      "Episode 2600\tAverage Score: 10.48\n",
      "Episode 2700\tAverage Score: 10.13\n",
      "Episode 2800\tAverage Score: 10.98\n",
      "Episode 2900\tAverage Score: 10.32\n",
      "Episode 3000\tAverage Score: 11.19\n",
      "Episode 3100\tAverage Score: 12.18\n",
      "Episode 3200\tAverage Score: 12.51\n",
      "Episode 3300\tAverage Score: 13.29\n",
      "Episode 3400\tAverage Score: 12.93\n",
      "Episode 3500\tAverage Score: 13.53\n",
      "Episode 3600\tAverage Score: 13.92\n",
      "Episode 3700\tAverage Score: 13.81\n",
      "Episode 3800\tAverage Score: 13.37\n",
      "Episode 3900\tAverage Score: 13.76\n",
      "Episode 4000\tAverage Score: 13.80\n",
      "Episode 4100\tAverage Score: 13.34\n",
      "Episode 4200\tAverage Score: 14.03\n",
      "Episode 4300\tAverage Score: 12.91\n",
      "Episode 4400\tAverage Score: 13.13\n",
      "Episode 4500\tAverage Score: 13.58\n",
      "Episode 4600\tAverage Score: 13.80\n",
      "Episode 4700\tAverage Score: 13.61\n",
      "Episode 4800\tAverage Score: 12.12\n",
      "Episode 4900\tAverage Score: 13.77\n",
      "Episode 5000\tAverage Score: 12.95\n",
      "Episode 5100\tAverage Score: 13.69\n",
      "Episode 5200\tAverage Score: 13.66\n",
      "Episode 5300\tAverage Score: 14.22\n",
      "Episode 5400\tAverage Score: 13.68\n",
      "Episode 5500\tAverage Score: 13.37\n",
      "Episode 5600\tAverage Score: 13.00\n",
      "Episode 5700\tAverage Score: 13.53\n",
      "Episode 5800\tAverage Score: 14.39\n",
      "Episode 5900\tAverage Score: 13.22\n",
      "Episode 6000\tAverage Score: 14.92\n",
      "Episode 6100\tAverage Score: 13.90\n",
      "Episode 6200\tAverage Score: 13.72\n",
      "Episode 6300\tAverage Score: 13.35\n",
      "Episode 6400\tAverage Score: 14.68\n",
      "Episode 6500\tAverage Score: 14.50\n",
      "Episode 6600\tAverage Score: 13.84\n",
      "Episode 6700\tAverage Score: 15.11\n",
      "Episode 6800\tAverage Score: 14.77\n",
      "Episode 6900\tAverage Score: 15.36\n",
      "Episode 7000\tAverage Score: 14.90\n",
      "Episode 7100\tAverage Score: 14.79\n",
      "Episode 7200\tAverage Score: 14.74\n",
      "Episode 7300\tAverage Score: 15.10\n",
      "Episode 7400\tAverage Score: 15.24\n",
      "Episode 7500\tAverage Score: 14.61\n",
      "Episode 7600\tAverage Score: 14.74\n",
      "Episode 7700\tAverage Score: 15.92\n",
      "Episode 7800\tAverage Score: 14.95\n",
      "Episode 7900\tAverage Score: 15.65\n",
      "Episode 8000\tAverage Score: 15.55\n",
      "Episode 8100\tAverage Score: 16.11\n",
      "Episode 8200\tAverage Score: 17.19\n",
      "Episode 8300\tAverage Score: 16.60\n",
      "Episode 8400\tAverage Score: 17.24\n",
      "Episode 8500\tAverage Score: 17.71\n",
      "Episode 8600\tAverage Score: 17.79\n",
      "Episode 8700\tAverage Score: 17.59\n",
      "Episode 8800\tAverage Score: 17.15\n",
      "Episode 8900\tAverage Score: 17.09\n",
      "Episode 9000\tAverage Score: 16.38\n",
      "Episode 9100\tAverage Score: 17.14\n",
      "Episode 9200\tAverage Score: 16.91\n",
      "Episode 9300\tAverage Score: 17.02\n",
      "Episode 9400\tAverage Score: 16.71\n",
      "Episode 9500\tAverage Score: 16.73\n",
      "Episode 9600\tAverage Score: 17.19\n",
      "Episode 9700\tAverage Score: 17.25\n",
      "Episode 9800\tAverage Score: 16.92\n",
      "Episode 9900\tAverage Score: 16.98\n",
      "Episode 10000\tAverage Score: 16.91\n"
     ]
    },
    {
     "data": {
      "image/png": "[encoded data removed]",
      "text/plain": [
       "<Figure size 640x480 with 1 Axes>"
      ]
     },
     "metadata": {},
     "output_type": "display_data"
    }
   ],
   "source": [
    "def dqn(n_episodes=10000, max_t=5000, eps_start=1.0, eps_end=0.0075, eps_decay=0.9987):\n",
    "    \"\"\"\n",
    "    Trains the DQN agent using explerience replay.\n",
    "\n",
    "    @param n_episodes Number of episodes simulated for the training.\n",
    "    @param max_t Maximum number of stemps for each episode.\n",
    "    @param eps_start Initial probability to select a random action.\n",
    "    @þaram eps_end Minimum of the probability to select a random action.\n",
    "    @param eps_decay Decay factor of the probability to select a random action.\n",
    "\n",
    "    @return List of rewards.\n",
    "\n",
    "    \"\"\"\n",
    "    scores = []                        # list containing scores from each episode\n",
    "    scores_window = deque(maxlen=100)  # last 100 scores\n",
    "    eps = eps_start                    # initialize epsilon\n",
    "    for i_episode in range(1, n_episodes+1):\n",
    "        state = env.reset()\n",
    "        score = 0\n",
    "        for t in range(max_t):\n",
    "            action = agent.act(state, eps)\n",
    "            next_state, reward, done, _ = env.step(action)\n",
    "            agent.step(state, action, reward, next_state, done)\n",
    "            state = next_state\n",
    "            score += reward\n",
    "            if done:\n",
    "                break \n",
    "        scores_window.append(score)       # save most recent score\n",
    "        scores.append(score)              # save most recent score\n",
    "        eps = max(eps_end, eps_decay*eps) # decrease epsilon\n",
    "        print('\\rEpisode {}\\tAverage Score: {:.2f}'.format(i_episode, np.mean(scores_window)), end=\"\")\n",
    "        if i_episode % 100 == 0:\n",
    "            print('\\rEpisode {}\\tAverage Score: {:.2f}'.format(i_episode, np.mean(scores_window)))\n",
    "            torch.save(agent.qnetwork_local.state_dict(), \"./saved_models/checkpoint_\" + str(i_episode) + \".pt\")\n",
    "            np.save(\"./saved_models/scores_\" +  str(i_episode) +  \".npy\", np.array(scores))\n",
    "    return scores\n",
    "\n",
    "scores = dqn()\n",
    "\n",
    "# plot the scores\n",
    "fig = plt.figure()\n",
    "ax = fig.add_subplot(111)\n",
    "plt.plot(np.arange(len(scores)), scores)\n",
    "plt.ylabel('Score')\n",
    "plt.xlabel('Episode #')\n",
    "plt.show()"
   ]
  }
 ],
 "metadata": {
  "kernelspec": {
   "display_name": "Python 3",
   "language": "python",
   "name": "python3"
  },
  "language_info": {
   "codemirror_mode": {
    "name": "ipython",
    "version": 3
   },
   "file_extension": ".py",
   "mimetype": "text/x-python",
   "name": "python",
   "nbconvert_exporter": "python",
   "pygments_lexer": "ipython3",
   "version": "3.10.12"
  }
 },
 "nbformat": 4,
 "nbformat_minor": 2
}
